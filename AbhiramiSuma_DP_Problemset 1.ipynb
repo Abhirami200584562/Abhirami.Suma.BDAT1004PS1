{
 "cells": [
  {
   "cell_type": "markdown",
   "id": "9bcb4a30",
   "metadata": {},
   "source": [
    "### Q1. Finding datatypes of each input variables"
   ]
  },
  {
   "cell_type": "code",
   "execution_count": 1,
   "id": "4fe8f0c7",
   "metadata": {},
   "outputs": [
    {
     "name": "stdout",
     "output_type": "stream",
     "text": [
      "data type of a is <class 'int'>\n"
     ]
    }
   ],
   "source": [
    "a = 5\n",
    "print(\"data type of a is\",type(a))\n"
   ]
  },
  {
   "cell_type": "code",
   "execution_count": 2,
   "id": "428e06f6",
   "metadata": {},
   "outputs": [
    {
     "name": "stdout",
     "output_type": "stream",
     "text": [
      " data type of b is  <class 'float'>\n"
     ]
    }
   ],
   "source": [
    "b = 5.0\n",
    "print(\" data type of b is \", type(b))\n"
   ]
  },
  {
   "cell_type": "code",
   "execution_count": 3,
   "id": "f840400d",
   "metadata": {},
   "outputs": [
    {
     "name": "stdout",
     "output_type": "stream",
     "text": [
      " data type of c is  <class 'bool'>\n"
     ]
    }
   ],
   "source": [
    "c = 5 > 1\n",
    "print(\" data type of c is \" ,type(c))\n"
   ]
  },
  {
   "cell_type": "code",
   "execution_count": 4,
   "id": "0f54c825",
   "metadata": {},
   "outputs": [
    {
     "name": "stdout",
     "output_type": "stream",
     "text": [
      " data type of d is  <class 'str'>\n"
     ]
    }
   ],
   "source": [
    "d = '5'\n",
    "print(\" data type of d is \", type(d))\n"
   ]
  },
  {
   "cell_type": "code",
   "execution_count": 5,
   "id": "2dae565c",
   "metadata": {},
   "outputs": [
    {
     "name": "stdout",
     "output_type": "stream",
     "text": [
      " data type of e is  <class 'int'>\n"
     ]
    }
   ],
   "source": [
    "e = 5 * 2\n",
    "print(\" data type of e is \" , type(e))\n",
    "\n",
    "\n"
   ]
  },
  {
   "cell_type": "code",
   "execution_count": 6,
   "id": "debd2e42",
   "metadata": {},
   "outputs": [
    {
     "name": "stdout",
     "output_type": "stream",
     "text": [
      " data type of f is  <class 'str'>\n"
     ]
    }
   ],
   "source": [
    "f = '5' * 2\n",
    "print(\" data type of f is \" , type(f))\n",
    "\n"
   ]
  },
  {
   "cell_type": "code",
   "execution_count": 7,
   "id": "1230689c",
   "metadata": {},
   "outputs": [
    {
     "name": "stdout",
     "output_type": "stream",
     "text": [
      " data type of g is  <class 'str'>\n"
     ]
    }
   ],
   "source": [
    "\n",
    "g= '5' + '2'\n",
    "print(\" data type of g is \" , type(g))\n"
   ]
  },
  {
   "cell_type": "code",
   "execution_count": 8,
   "id": "76cffb83",
   "metadata": {},
   "outputs": [
    {
     "name": "stdout",
     "output_type": "stream",
     "text": [
      " data type of h is  <class 'float'>\n"
     ]
    }
   ],
   "source": [
    "\n",
    "h = 5 / 2\n",
    "print(\" data type of h is \" , type(h))\n",
    "\n"
   ]
  },
  {
   "cell_type": "code",
   "execution_count": 9,
   "id": "1414bcf5",
   "metadata": {},
   "outputs": [
    {
     "name": "stdout",
     "output_type": "stream",
     "text": [
      " data type of i is  <class 'int'>\n"
     ]
    }
   ],
   "source": [
    "i = 5 % 2\n",
    "print(\" data type of i is \" , type(i))\n",
    "\n"
   ]
  },
  {
   "cell_type": "code",
   "execution_count": 10,
   "id": "e609d57a",
   "metadata": {},
   "outputs": [
    {
     "name": "stdout",
     "output_type": "stream",
     "text": [
      " data type of j is  <class 'set'>\n"
     ]
    }
   ],
   "source": [
    "j = {5, 2, 1}\n",
    "print(\" data type of j is \" , type(j))\n",
    "\n"
   ]
  },
  {
   "cell_type": "code",
   "execution_count": 11,
   "id": "2f09f909",
   "metadata": {},
   "outputs": [
    {
     "name": "stdout",
     "output_type": "stream",
     "text": [
      " data type of k is  <class 'bool'>\n"
     ]
    }
   ],
   "source": [
    "k = 5 == 3\n",
    "print(\" data type of k is \" , type(k))\n",
    "\n"
   ]
  },
  {
   "cell_type": "code",
   "execution_count": 12,
   "id": "f73a2b0d",
   "metadata": {},
   "outputs": [
    {
     "name": "stdout",
     "output_type": "stream",
     "text": [
      " data type of l is  <class 'float'>\n"
     ]
    }
   ],
   "source": [
    "import math  # importing library to implement math function\n",
    "l = math.pi\n",
    "print(\" data type of l is \" , type(l))"
   ]
  },
  {
   "cell_type": "markdown",
   "id": "eb379f2a",
   "metadata": {},
   "source": [
    "## Q2 \n",
    "## a) How many letters are there in 'Supercalifragilisticexpialidocious'?\n"
   ]
  },
  {
   "cell_type": "code",
   "execution_count": 13,
   "id": "769d5182",
   "metadata": {},
   "outputs": [
    {
     "name": "stdout",
     "output_type": "stream",
     "text": [
      "There are 34 letters in the word Supercalifragilisticexpialidocious\n"
     ]
    }
   ],
   "source": [
    "word = 'Supercalifragilisticexpialidocious'\n",
    "num_letters = len(word)\n",
    "print(f\"There are {num_letters} letters in the word {word}\")\n"
   ]
  },
  {
   "cell_type": "markdown",
   "id": "52877686",
   "metadata": {},
   "source": [
    "## b) Does 'Supercalifragilisticexpialidocious' contain 'ice' as a substring? "
   ]
  },
  {
   "cell_type": "code",
   "execution_count": 14,
   "id": "333a4807",
   "metadata": {},
   "outputs": [
    {
     "name": "stdout",
     "output_type": "stream",
     "text": [
      "Does 'Supercalifragilisticexpialidocious' contain 'ice' as a substring?  True\n"
     ]
    }
   ],
   "source": [
    "word = 'Supercalifragilisticexpialidocious'\n",
    "contains_ice = 'ice' in word\n",
    "print(\"Does 'Supercalifragilisticexpialidocious' contain 'ice' as a substring? \",contains_ice) \n"
   ]
  },
  {
   "cell_type": "markdown",
   "id": "96f8771d",
   "metadata": {},
   "source": [
    "## c. Which of the following words is the longest: Supercalifragilisticexpialidocious, Honorificabilitudinitatibus, or Bababadalgharaghtakamminarronnkonn? "
   ]
  },
  {
   "cell_type": "code",
   "execution_count": 15,
   "id": "7803c1ac",
   "metadata": {},
   "outputs": [
    {
     "name": "stdout",
     "output_type": "stream",
     "text": [
      "The longest word is Supercalifragilisticexpialidocious\n"
     ]
    }
   ],
   "source": [
    "W1 = 'Supercalifragilisticexpialidocious'\n",
    "W2= 'Honorificabilitudinitatibus'\n",
    "W3 = 'Bababadalgharaghtakamminarronnkonn'\n",
    "\n",
    "longest_word = max(W1,W2,W3, key=len)\n",
    "print(f\"The longest word is {longest_word}\")  \n"
   ]
  },
  {
   "cell_type": "markdown",
   "id": "4f0baa24",
   "metadata": {},
   "source": [
    "## d. Which composer comes first in the dictionary: 'Berlioz', 'Borodin', 'Brian', 'Bartok', 'Bellini', 'Buxtehude', 'Bernstein'. Which one comes last?"
   ]
  },
  {
   "cell_type": "code",
   "execution_count": 16,
   "id": "217f9040",
   "metadata": {},
   "outputs": [
    {
     "name": "stdout",
     "output_type": "stream",
     "text": [
      "First composer is: Bartok\n",
      "Last composer is: Buxtehude\n"
     ]
    }
   ],
   "source": [
    "composers = ['Berlioz', 'Borodin', 'Brian', 'Bartok', 'Bellini', 'Buxtehude', 'Bernstein']\n",
    "first_composer = min(composers)\n",
    "last_composer = max(composers)\n",
    "\n",
    "print(\"First composer is:\",first_composer) \n",
    "print(\"Last composer is:\",last_composer)  \n"
   ]
  },
  {
   "cell_type": "markdown",
   "id": "32eb21e6",
   "metadata": {},
   "source": [
    "## Q3\n",
    " ## Implement function triangleArea(a,b,c) that takes as input the lengths of the 3sides of a triangle and returns the area of the triangle. By Heron's formula, the areaof a triangle with side lengths a, b, and c is   s(s - a)(s - b)(s - c) , where s = (a + b + c)/2"
   ]
  },
  {
   "cell_type": "code",
   "execution_count": 17,
   "id": "098cb426",
   "metadata": {},
   "outputs": [
    {
     "name": "stdout",
     "output_type": "stream",
     "text": [
      "Area of the Triangle: 2.48746859276655\n"
     ]
    }
   ],
   "source": [
    "import math\n",
    "\n",
    "def triangleArea(a, b, c):\n",
    "    \n",
    "    s = (a + b + c) / 2\n",
    "    \n",
    "    area = math.sqrt(s * (s - a) * (s - b) * (s - c))\n",
    "    \n",
    "    return area \n",
    "\n",
    "    \n",
    "    a = 2\n",
    "    b = 2\n",
    "    c = 2\n",
    "    \n",
    "print(\"Area of the Triangle:\",triangleArea (a,b,c))"
   ]
  },
  {
   "cell_type": "markdown",
   "id": "6a596893",
   "metadata": {},
   "source": [
    "## Q4\n",
    "## Write a program in python to separate odd and even integers in separate arrays. Go to the editorTest Data :Input the number of elements to be stored in the array :5Input 5 elements in the array :element - 0 : 25element - 1 : 47element - 2 : 42element - 3 : 56element - 4 : 32"
   ]
  },
  {
   "cell_type": "code",
   "execution_count": 18,
   "id": "fe672690",
   "metadata": {},
   "outputs": [
    {
     "name": "stdout",
     "output_type": "stream",
     "text": [
      "Odd numbers: [25, 47]\n",
      "Even numbers: [42, 56, 32]\n"
     ]
    }
   ],
   "source": [
    "def separate_odd_even(Ar):\n",
    "    odd = []\n",
    "    even = []\n",
    "    for num in Ar:\n",
    "        if num % 2 == 0:\n",
    "            even.append(num)\n",
    "        else:\n",
    "            odd.append(num)\n",
    "    return odd, even\n",
    "\n",
    "def main():\n",
    "    Ar = [25, 47, 42, 56, 32]\n",
    "    \n",
    "    odd_numbers, even_numbers = separate_odd_even(Ar)\n",
    "    \n",
    "    print(\"Odd numbers:\", odd_numbers)\n",
    "    print(\"Even numbers:\", even_numbers)\n",
    "\n",
    "if __name__ == \"__main__\":\n",
    "    main()\n"
   ]
  },
  {
   "cell_type": "markdown",
   "id": "6ecc0d37",
   "metadata": {},
   "source": [
    "## Q5\n",
    "### a.Write a function inside(x,y,x1,y1,x2,y2) that returns True or False depending on whether the point (x,y) lies in the rectangle with lower left corner (x1,y1) and upper right corner (x2,y2)."
   ]
  },
  {
   "cell_type": "code",
   "execution_count": 19,
   "id": "47377064",
   "metadata": {},
   "outputs": [
    {
     "name": "stdout",
     "output_type": "stream",
     "text": [
      "checking(1,1) inside or not\n",
      "True\n",
      "checking(-1,-1) inside or not\n",
      "False\n"
     ]
    }
   ],
   "source": [
    "def inside(x, y, x1, y1, x2, y2):\n",
    "    return x1 <= x <= x2 and y1 <= y <= y2\n",
    "\n",
    "print(\"checking(1,1) inside or not\")\n",
    "print(inside(1, 1, 0, 0, 2, 3))  \n",
    "print(\"checking(-1,-1) inside or not\")\n",
    "print(inside(-1, -1, 0, 0, 2, 3)) \n"
   ]
  },
  {
   "cell_type": "markdown",
   "id": "0a8bb026",
   "metadata": {},
   "source": [
    "### b. Use function inside() from part a. to write an expression that tests whether the point (1,1) lies in both of the following rectangles: one with lower left corner (0.3, 0.5) and upper right corner (1.1, 0.7) and the other with lower left corner (0.5, 0.2) and upper right corner (1.1, 2)"
   ]
  },
  {
   "cell_type": "code",
   "execution_count": 20,
   "id": "52ffbbcf",
   "metadata": {},
   "outputs": [
    {
     "name": "stdout",
     "output_type": "stream",
     "text": [
      "checking if (1,1) is inside both the triangles: False\n"
     ]
    }
   ],
   "source": [
    "\n",
    "result = inside(1, 1, 0.3, 0.5, 1.1, 0.7) and inside(1, 1, 0.5, 0.2, 1.1, 2)\n",
    "print(\"checking if (1,1) is inside both the triangles:\",result)\n"
   ]
  },
  {
   "cell_type": "markdown",
   "id": "341b79d5",
   "metadata": {},
   "source": [
    "## Q6\n",
    "### You can turn a word into pig-Latin using the following two rules (simplified):• If the word starts with a consonant, move that letter to the end and append'ay'. For example, 'happy' becomes 'appyhay' and 'pencil' becomes 'encilpay'.• If the word starts with a vowel, simply append 'way' to the end of the word.For example, 'enter' becomes 'enterway' and 'other' becomes 'otherway' . Forour purposes, there are 5 vowels: a, e, i, o, u (so we count y as a consonant) Write a function pig() that takes a word (i.e., a string) as input and returns its pig-Latin form. Your  function should still work if the input word contains upper case characters. Your output should always be lower case however\n"
   ]
  },
  {
   "cell_type": "code",
   "execution_count": 21,
   "id": "10064040",
   "metadata": {},
   "outputs": [
    {
     "name": "stdout",
     "output_type": "stream",
     "text": [
      "The pig-Latin form of Happy is  appyhay\n",
      "The pig-Latin form of Enter is  enterway\n",
      "The pig-Latin form of Pencil is  encilpay\n",
      "The pig-Latin form of Other is  otherway\n"
     ]
    }
   ],
   "source": [
    "def pig(word):\n",
    "    vowels = {'a', 'e', 'i', 'o', 'u'}\n",
    "    \n",
    "    word = word.lower()\n",
    "    \n",
    "    if word[0] in vowels:\n",
    "        return word + 'way'\n",
    "    else:\n",
    "        return word[1:] + word[0] + 'ay'\n",
    "\n",
    "\n",
    "print(\"The pig-Latin form of Happy is \",pig('Happy'))  \n",
    "print(\"The pig-Latin form of Enter is \",pig('Enter'))  \n",
    "print(\"The pig-Latin form of Pencil is \",pig('pencil')) \n",
    "print(\"The pig-Latin form of Other is \",pig('Other'))  \n"
   ]
  },
  {
   "cell_type": "markdown",
   "id": "db86fa96",
   "metadata": {},
   "source": [
    "## Q7\n",
    "### File bloodtype1.txt records blood-types of patients (A, B, AB, O or OO) at a clinic. Write a function bldcount() that reads the file with name name and reports (i.e., prints) how many patients there are in each bloodtype"
   ]
  },
  {
   "cell_type": "code",
   "execution_count": 22,
   "id": "ee6f30cd",
   "metadata": {},
   "outputs": [
    {
     "name": "stdout",
     "output_type": "stream",
     "text": [
      "There are 15 patients of blood type A.\n",
      "There is one patient of blood type B.\n",
      "There are 13 patients of blood type AB.\n",
      "There are 15 patients of blood type O.\n",
      "There are no patients of blood type OO.\n"
     ]
    }
   ],
   "source": [
    "def bldcount(dataset):\n",
    "    blood_counts = {'A': 0, 'B': 0, 'AB': 0, 'O': 0, 'OO': 0}\n",
    "    try:\n",
    "        with open(dataset, 'r') as data:\n",
    "            contents = data.read()\n",
    "            blood_types = contents.split()\n",
    "\n",
    "        index = 0  \n",
    "        while index < len(blood_types):\n",
    "            blood_type = blood_types[index]\n",
    "            if blood_type in blood_counts:\n",
    "                blood_counts[blood_type] += 1\n",
    "            else:\n",
    "                print(f\"Unknown blood type '{blood_type}' found in the file.\")\n",
    "            index += 1\n",
    "\n",
    "        for blood_type, count in blood_counts.items():\n",
    "            if count == 1:\n",
    "                print(f\"There is one patient of blood type {blood_type}.\")\n",
    "            elif count > 1:\n",
    "                print(f\"There are {count} patients of blood type {blood_type}.\")\n",
    "            else:\n",
    "                print(f\"There are no patients of blood type {blood_type}.\")\n",
    "    except FileNotFoundError:\n",
    "        print(\"File not found.\")\n",
    "    except Exception as e:\n",
    "        print(\"An error occurred:\", e)\n",
    "\n",
    "bldcount('bloodtype1.txt')\n"
   ]
  },
  {
   "cell_type": "markdown",
   "id": "6f9a763d",
   "metadata": {},
   "source": [
    "## Q8\n",
    "### Write a function curconv() that takes as input:\n",
    "#### 1. a currency represented using a string (e.g., 'JPY' for the Japanese Yen or 'EUR' for the Euro)\n",
    "#### 2. an amount \n",
    "#### and then converts and returns the amount in US dollars."
   ]
  },
  {
   "cell_type": "code",
   "execution_count": 23,
   "id": "6b2fe8d5",
   "metadata": {},
   "outputs": [
    {
     "name": "stdout",
     "output_type": "stream",
     "text": [
      "The EUR 100 in USD is\n",
      "122.96544\n",
      "The JPY 100 in USD is\n",
      "1.241401\n"
     ]
    }
   ],
   "source": [
    "def curconv(currency, amount):\n",
    "    with open('currencies.txt', 'r') as file:\n",
    "        lines = file.readlines()\n",
    "        for line in lines:\n",
    "            parts = line.split()\n",
    "            if parts[0] == currency:\n",
    "                rate = float(parts[1])\n",
    "                return amount * rate\n",
    "        print(\"Currency not found in the file.\")\n",
    "        return None\n",
    "\n",
    "print(\"The EUR 100 in USD is\")\n",
    "print(curconv('EUR', 100))\n",
    "print(\"The JPY 100 in USD is\")\n",
    "print(curconv('JPY', 100))\n"
   ]
  },
  {
   "cell_type": "markdown",
   "id": "4357c03d",
   "metadata": {},
   "source": [
    "## Q9\n",
    "### Each of the following will cause an exception (an error). Identify what type of exception each will cause."
   ]
  },
  {
   "cell_type": "markdown",
   "id": "d795bc5f",
   "metadata": {},
   "source": [
    "#### a.Trying to add incompatible variables, as in adding 6 + ‘a’\n",
    "#### b.Referring to the 12th item of a list that has only 10 items\n",
    "#### c.Using a value that is out of range for a function’s input, such as calling math.sqrt(-1.0)\n",
    "#### d.Using an undeclared variable, such as print(x) when x has not been defined\n",
    "#### e.Trying to open a file that does not exist, such as mistyping the file name or looking in the wrong directory."
   ]
  },
  {
   "cell_type": "code",
   "execution_count": 25,
   "id": "ecd36374",
   "metadata": {},
   "outputs": [
    {
     "ename": "TypeError",
     "evalue": "unsupported operand type(s) for +: 'int' and 'str'",
     "output_type": "error",
     "traceback": [
      "\u001b[1;31m---------------------------------------------------------------------------\u001b[0m",
      "\u001b[1;31mTypeError\u001b[0m                                 Traceback (most recent call last)",
      "Cell \u001b[1;32mIn[25], line 2\u001b[0m\n\u001b[0;32m      1\u001b[0m \u001b[38;5;66;03m#For a.\u001b[39;00m\n\u001b[1;32m----> 2\u001b[0m result \u001b[38;5;241m=\u001b[39m \u001b[38;5;241;43m6\u001b[39;49m\u001b[43m \u001b[49m\u001b[38;5;241;43m+\u001b[39;49m\u001b[43m \u001b[49m\u001b[38;5;124;43m'\u001b[39;49m\u001b[38;5;124;43ma\u001b[39;49m\u001b[38;5;124;43m'\u001b[39;49m\n\u001b[0;32m      3\u001b[0m \u001b[38;5;28mprint\u001b[39m(result)\n",
      "\u001b[1;31mTypeError\u001b[0m: unsupported operand type(s) for +: 'int' and 'str'"
     ]
    }
   ],
   "source": [
    "#For a.\n",
    "\n",
    "result = 6 + 'a'\n",
    "print(result)\n"
   ]
  },
  {
   "cell_type": "markdown",
   "id": "f3657cf8",
   "metadata": {},
   "source": [
    "These two variables are in different data type so we can't add that. Type Error is a built-in exception class."
   ]
  },
  {
   "cell_type": "code",
   "execution_count": 26,
   "id": "7bf868a8",
   "metadata": {},
   "outputs": [
    {
     "ename": "IndexError",
     "evalue": "list index out of range",
     "output_type": "error",
     "traceback": [
      "\u001b[1;31m---------------------------------------------------------------------------\u001b[0m",
      "\u001b[1;31mIndexError\u001b[0m                                Traceback (most recent call last)",
      "Cell \u001b[1;32mIn[26], line 3\u001b[0m\n\u001b[0;32m      1\u001b[0m \u001b[38;5;66;03m#For b.\u001b[39;00m\n\u001b[0;32m      2\u001b[0m my_list \u001b[38;5;241m=\u001b[39m [\u001b[38;5;241m1\u001b[39m, \u001b[38;5;241m2\u001b[39m, \u001b[38;5;241m3\u001b[39m, \u001b[38;5;241m4\u001b[39m, \u001b[38;5;241m5\u001b[39m, \u001b[38;5;241m6\u001b[39m, \u001b[38;5;241m7\u001b[39m, \u001b[38;5;241m8\u001b[39m, \u001b[38;5;241m9\u001b[39m, \u001b[38;5;241m10\u001b[39m]\n\u001b[1;32m----> 3\u001b[0m \u001b[38;5;28mprint\u001b[39m(\u001b[43mmy_list\u001b[49m\u001b[43m[\u001b[49m\u001b[38;5;241;43m12\u001b[39;49m\u001b[43m]\u001b[49m)\n",
      "\u001b[1;31mIndexError\u001b[0m: list index out of range"
     ]
    }
   ],
   "source": [
    "#For b.\n",
    "\n",
    "my_list = [1, 2, 3, 4, 5, 6, 7, 8, 9, 10]\n",
    "print(my_list[12])\n"
   ]
  },
  {
   "cell_type": "markdown",
   "id": "7884658a",
   "metadata": {},
   "source": [
    "The listed index are out of range, ie., it calls for an item out of the array size."
   ]
  },
  {
   "cell_type": "code",
   "execution_count": 27,
   "id": "fddd1535",
   "metadata": {},
   "outputs": [
    {
     "ename": "ValueError",
     "evalue": "math domain error",
     "output_type": "error",
     "traceback": [
      "\u001b[1;31m---------------------------------------------------------------------------\u001b[0m",
      "\u001b[1;31mValueError\u001b[0m                                Traceback (most recent call last)",
      "Cell \u001b[1;32mIn[27], line 3\u001b[0m\n\u001b[0;32m      1\u001b[0m \u001b[38;5;66;03m#For c.\u001b[39;00m\n\u001b[0;32m      2\u001b[0m \u001b[38;5;28;01mimport\u001b[39;00m \u001b[38;5;21;01mmath\u001b[39;00m\n\u001b[1;32m----> 3\u001b[0m result \u001b[38;5;241m=\u001b[39m \u001b[43mmath\u001b[49m\u001b[38;5;241;43m.\u001b[39;49m\u001b[43msqrt\u001b[49m\u001b[43m(\u001b[49m\u001b[38;5;241;43m-\u001b[39;49m\u001b[38;5;241;43m1.0\u001b[39;49m\u001b[43m)\u001b[49m\n\u001b[0;32m      4\u001b[0m \u001b[38;5;28mprint\u001b[39m(result)\n",
      "\u001b[1;31mValueError\u001b[0m: math domain error"
     ]
    }
   ],
   "source": [
    "#For c.\n",
    "\n",
    "import math\n",
    "result = math.sqrt(-1.0)\n",
    "print(result)\n"
   ]
  },
  {
   "cell_type": "markdown",
   "id": "a18ba1a4",
   "metadata": {},
   "source": [
    "Maths domains can't accept negative numbers as an input. It is a value error which is raised when operation or function has an argument of the right type but incorrect value."
   ]
  },
  {
   "cell_type": "code",
   "execution_count": 28,
   "id": "72f2c4b3",
   "metadata": {},
   "outputs": [
    {
     "ename": "NameError",
     "evalue": "name 'x' is not defined",
     "output_type": "error",
     "traceback": [
      "\u001b[1;31m---------------------------------------------------------------------------\u001b[0m",
      "\u001b[1;31mNameError\u001b[0m                                 Traceback (most recent call last)",
      "Cell \u001b[1;32mIn[28], line 2\u001b[0m\n\u001b[0;32m      1\u001b[0m \u001b[38;5;66;03m#For d.\u001b[39;00m\n\u001b[1;32m----> 2\u001b[0m \u001b[38;5;28mprint\u001b[39m(\u001b[43mx\u001b[49m)\n",
      "\u001b[1;31mNameError\u001b[0m: name 'x' is not defined"
     ]
    }
   ],
   "source": [
    "#For d.\n",
    "\n",
    "print(x)\n"
   ]
  },
  {
   "cell_type": "markdown",
   "id": "faae1ca4",
   "metadata": {},
   "source": [
    "X is an udefined variable so we can't print this without giving any definition. It is a NameError raised when attempting to evaluate an unassigned identifier."
   ]
  },
  {
   "cell_type": "code",
   "execution_count": 29,
   "id": "0ea91d2c",
   "metadata": {},
   "outputs": [
    {
     "name": "stdout",
     "output_type": "stream",
     "text": [
      "File not found: [Errno 2] No such file or directory: 'nonexistent_file.txt'\n"
     ]
    }
   ],
   "source": [
    "#For e.\n",
    "\n",
    "try:\n",
    "    with open('nonexistent_file.txt', 'r') as file:\n",
    "        content = file.read()\n",
    "        print(content)\n",
    "except FileNotFoundError as e:\n",
    "    print(\"File not found:\", e)\n"
   ]
  },
  {
   "cell_type": "markdown",
   "id": "c1d9a354",
   "metadata": {},
   "source": [
    "The specified file doesnot not exist in the specified location. Thus, it doesnot work."
   ]
  },
  {
   "cell_type": "markdown",
   "id": "06f65918",
   "metadata": {},
   "source": [
    "## Q10\n",
    "### Write a function called frequencies() that takes a string as its only parameter, and returns a list of integers, showing the number of times each character appears in the text. Your function may ignore any characters that are not in letters"
   ]
  },
  {
   "cell_type": "code",
   "execution_count": 30,
   "id": "d6ecb9ab",
   "metadata": {},
   "outputs": [
    {
     "name": "stdout",
     "output_type": "stream",
     "text": [
      "Frequencies of 'The quick red fox got bored and went home': [1, 1, 1, 3, 5, 1, 1, 2, 1, 0, 1, 0, 1, 2, 4, 0, 1, 2, 0, 3, 1, 0, 1, 1, 0, 0]\n",
      "Frequencies of 'Apple': [1, 0, 0, 0, 1, 0, 0, 0, 0, 0, 0, 1, 0, 0, 0, 2, 0, 0, 0, 0, 0, 0, 0, 0, 0, 0]\n"
     ]
    }
   ],
   "source": [
    "def frequencies(text):\n",
    "    letters = 'abcdefghijklmnopqrstuvwxyz'\n",
    "    freq_list = [0] * 26  \n",
    "\n",
    "    for char in text.lower():  \n",
    "        if char in letters:\n",
    "            index = letters.index(char)\n",
    "            freq_list[index] += 1\n",
    "    \n",
    "    return freq_list\n",
    "\n",
    "\n",
    "print(\"Frequencies of 'The quick red fox got bored and went home':\",frequencies('The quick red fox got bored and went home.'))\n",
    "print(\"Frequencies of 'Apple':\",frequencies('apple'))\n"
   ]
  }
 ],
 "metadata": {
  "kernelspec": {
   "display_name": "Python 3 (ipykernel)",
   "language": "python",
   "name": "python3"
  },
  "language_info": {
   "codemirror_mode": {
    "name": "ipython",
    "version": 3
   },
   "file_extension": ".py",
   "mimetype": "text/x-python",
   "name": "python",
   "nbconvert_exporter": "python",
   "pygments_lexer": "ipython3",
   "version": "3.10.9"
  }
 },
 "nbformat": 4,
 "nbformat_minor": 5
}
